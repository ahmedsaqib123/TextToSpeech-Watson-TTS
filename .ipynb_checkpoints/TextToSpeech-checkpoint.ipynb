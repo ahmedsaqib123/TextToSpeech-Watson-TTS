{
 "cells": [
  {
   "cell_type": "code",
   "execution_count": 1,
   "metadata": {},
   "outputs": [],
   "source": [
    "#Text to Speech using Watson TTS\n",
    "\n",
    "#Steps: \n",
    "#1. Capturing text using Python \n",
    "#2. Pass it through Watson TTS\n",
    "#3. Save it as Mp3 format"
   ]
  },
  {
   "cell_type": "code",
   "execution_count": 6,
   "metadata": {},
   "outputs": [
    {
     "name": "stdout",
     "output_type": "stream",
     "text": [
      "Requirement already satisfied: ibm-watson in c:\\users\\lenovo\\anaconda3\\envs\\nlp_course\\lib\\site-packages (5.2.1)\n",
      "Requirement already satisfied: ibm-cloud-sdk-core==3.*,>=3.3.6 in c:\\users\\lenovo\\anaconda3\\envs\\nlp_course\\lib\\site-packages (from ibm-watson) (3.10.0)\n",
      "Requirement already satisfied: python-dateutil>=2.5.3 in c:\\users\\lenovo\\anaconda3\\envs\\nlp_course\\lib\\site-packages (from ibm-watson) (2.8.1)\n",
      "Requirement already satisfied: websocket-client==1.1.0 in c:\\users\\lenovo\\anaconda3\\envs\\nlp_course\\lib\\site-packages (from ibm-watson) (1.1.0)\n",
      "Requirement already satisfied: requests<3.0,>=2.0 in c:\\users\\lenovo\\anaconda3\\envs\\nlp_course\\lib\\site-packages (from ibm-watson) (2.25.1)\n",
      "Requirement already satisfied: PyJWT<3.0.0,>=2.0.1 in c:\\users\\lenovo\\anaconda3\\envs\\nlp_course\\lib\\site-packages (from ibm-cloud-sdk-core==3.*,>=3.3.6->ibm-watson) (2.1.0)\n",
      "Requirement already satisfied: six>=1.5 in c:\\users\\lenovo\\anaconda3\\envs\\nlp_course\\lib\\site-packages (from python-dateutil>=2.5.3->ibm-watson) (1.15.0)\n",
      "Requirement already satisfied: idna<3,>=2.5 in c:\\users\\lenovo\\anaconda3\\envs\\nlp_course\\lib\\site-packages (from requests<3.0,>=2.0->ibm-watson) (2.10)\n",
      "Requirement already satisfied: certifi>=2017.4.17 in c:\\users\\lenovo\\anaconda3\\envs\\nlp_course\\lib\\site-packages (from requests<3.0,>=2.0->ibm-watson) (2020.12.5)\n",
      "Requirement already satisfied: chardet<5,>=3.0.2 in c:\\users\\lenovo\\anaconda3\\envs\\nlp_course\\lib\\site-packages (from requests<3.0,>=2.0->ibm-watson) (4.0.0)\n",
      "Requirement already satisfied: urllib3<1.27,>=1.21.1 in c:\\users\\lenovo\\anaconda3\\envs\\nlp_course\\lib\\site-packages (from requests<3.0,>=2.0->ibm-watson) (1.26.3)\n"
     ]
    }
   ],
   "source": [
    "#Installing IBM-Watson \n",
    "!pip install ibm-watson"
   ]
  },
  {
   "cell_type": "code",
   "execution_count": 9,
   "metadata": {},
   "outputs": [
    {
     "name": "stdout",
     "output_type": "stream",
     "text": [
      "Collecting ibm-watson\n",
      "  Using cached ibm-watson-5.2.1.tar.gz (407 kB)\n",
      "  Installing build dependencies: started\n",
      "  Installing build dependencies: finished with status 'done'\n",
      "  Getting requirements to build wheel: started\n",
      "  Getting requirements to build wheel: finished with status 'done'\n",
      "    Preparing wheel metadata: started\n",
      "    Preparing wheel metadata: finished with status 'done'\n",
      "Requirement already satisfied, skipping upgrade: python-dateutil>=2.5.3 in c:\\users\\lenovo\\anaconda3\\lib\\site-packages (from ibm-watson) (2.8.1)\n",
      "Requirement already satisfied, skipping upgrade: requests<3.0,>=2.0 in c:\\users\\lenovo\\anaconda3\\lib\\site-packages (from ibm-watson) (2.24.0)\n",
      "Collecting websocket-client==1.1.0\n",
      "  Using cached websocket_client-1.1.0-py2.py3-none-any.whl (68 kB)\n",
      "Collecting ibm-cloud-sdk-core==3.*,>=3.3.6\n",
      "  Using cached ibm-cloud-sdk-core-3.10.0.tar.gz (39 kB)\n",
      "Requirement already satisfied, skipping upgrade: six>=1.5 in c:\\users\\lenovo\\anaconda3\\lib\\site-packages (from python-dateutil>=2.5.3->ibm-watson) (1.15.0)\n",
      "Requirement already satisfied, skipping upgrade: urllib3!=1.25.0,!=1.25.1,<1.26,>=1.21.1 in c:\\users\\lenovo\\anaconda3\\lib\\site-packages (from requests<3.0,>=2.0->ibm-watson) (1.25.11)\n",
      "Requirement already satisfied, skipping upgrade: idna<3,>=2.5 in c:\\users\\lenovo\\anaconda3\\lib\\site-packages (from requests<3.0,>=2.0->ibm-watson) (2.10)\n",
      "Requirement already satisfied, skipping upgrade: certifi>=2017.4.17 in c:\\users\\lenovo\\anaconda3\\lib\\site-packages (from requests<3.0,>=2.0->ibm-watson) (2020.6.20)\n",
      "Requirement already satisfied, skipping upgrade: chardet<4,>=3.0.2 in c:\\users\\lenovo\\anaconda3\\lib\\site-packages (from requests<3.0,>=2.0->ibm-watson) (3.0.4)\n",
      "Collecting PyJWT<3.0.0,>=2.0.1\n",
      "  Using cached PyJWT-2.1.0-py3-none-any.whl (16 kB)\n",
      "Building wheels for collected packages: ibm-watson, ibm-cloud-sdk-core\n",
      "  Building wheel for ibm-watson (PEP 517): started\n",
      "  Building wheel for ibm-watson (PEP 517): finished with status 'done'\n",
      "  Created wheel for ibm-watson: filename=ibm_watson-5.2.1-py3-none-any.whl size=403289 sha256=0d2e054ae0aa58d56b0fcf3014332ff68b7dd3b95014edf6a5d3ca03d7cff3e8\n",
      "  Stored in directory: c:\\users\\lenovo\\appdata\\local\\pip\\cache\\wheels\\7d\\4f\\98\\7001d8ffbae8b2f691709409c44333c462b0bffe268105aa8d\n",
      "  Building wheel for ibm-cloud-sdk-core (setup.py): started\n",
      "  Building wheel for ibm-cloud-sdk-core (setup.py): finished with status 'done'\n",
      "  Created wheel for ibm-cloud-sdk-core: filename=ibm_cloud_sdk_core-3.10.0-py3-none-any.whl size=60915 sha256=c32927acdd01e5a16e7fbb97d15421f4e67550acef6c8c5edbec3df1c44bf53d\n",
      "  Stored in directory: c:\\users\\lenovo\\appdata\\local\\pip\\cache\\wheels\\25\\f3\\b1\\1da82e99b552ed44485071ba233652b9f46c06a55853eac780\n",
      "Successfully built ibm-watson ibm-cloud-sdk-core\n",
      "Installing collected packages: websocket-client, PyJWT, ibm-cloud-sdk-core, ibm-watson\n",
      "Successfully installed PyJWT-2.1.0 ibm-cloud-sdk-core-3.10.0 ibm-watson-5.2.1 websocket-client-1.1.0\n",
      "Note: you may need to restart the kernel to use updated packages.\n"
     ]
    }
   ],
   "source": [
    "pip install --upgrade ibm-watson"
   ]
  },
  {
   "cell_type": "code",
   "execution_count": 10,
   "metadata": {},
   "outputs": [],
   "source": [
    "#Authentication with IBM-Cloud\n",
    "api_key = 'TIrpnikCgPeNg7QtkUOrQKHcs7elK2vWwVjOcqByIR2T'\n",
    "url = 'https://api.au-syd.text-to-speech.watson.cloud.ibm.com/instances/985d9841-fb0b-42e9-bc78-50fda8ed1da0'"
   ]
  },
  {
   "cell_type": "code",
   "execution_count": 14,
   "metadata": {},
   "outputs": [],
   "source": [
    "from ibm_watson import TextToSpeechV1\n",
    "from ibm_cloud_sdk_core.authenticators import IAMAuthenticator"
   ]
  },
  {
   "cell_type": "code",
   "execution_count": 15,
   "metadata": {},
   "outputs": [],
   "source": [
    "#Setup Service\n",
    "authenticator = IAMAuthenticator(api_key)\n",
    "#New TTS Service \n",
    "tts = TextToSpeechV1(authenticator=authenticator)\n",
    "tts.set_service_url(url)"
   ]
  },
  {
   "cell_type": "code",
   "execution_count": 43,
   "metadata": {},
   "outputs": [],
   "source": [
    "#Implentation \n",
    "with open('darkness.txt','r',encoding='utf-8') as f:\n",
    "    text = f.readlines()"
   ]
  },
  {
   "cell_type": "code",
   "execution_count": 44,
   "metadata": {},
   "outputs": [
    {
     "name": "stdout",
     "output_type": "stream",
     "text": [
      "['DARKNESS\\n', '\\n', 'A YOUNG peasant, with white eyebrows and eyelashes and broad cheekbones,\\n', 'in a torn sheepskin and big black felt overboots, waited till the\\n', 'Zemstvo doctor had finished seeing his patients and came out to go home\\n', 'from the hospital; then he went up to him, diffidently.\\n', '\\n', '“Please, your honour,” he said.\\n', '\\n', '“What do you want?”\\n', '\\n', 'The young man passed the palm of his hand up and over his nose, looked\\n', 'at the sky, and then answered:\\n', '\\n', '“Please, your honour. . . . You’ve got my brother Vaska the blacksmith\\n', 'from Varvarino in the convict ward here, your honour. . . .”\\n', '\\n', '“Yes, what then?”\\n', '\\n', '“I am Vaska’s brother, you see. . . . Father has the two of us: him,\\n', 'Vaska, and me, Kirila; besides us there are three sisters, and Vaska’s a\\n', 'married man with a little one. . . . There are a lot of us and no one to\\n', 'work. . . . In the smithy it’s nearly two years now since the forge has\\n', 'been heated. I am at the cotton factory, I can’t do smith’s work, and\\n', 'how can father work? Let alone work, he can’t eat properly, he can’t\\n', 'lift the spoon to his mouth.”\\n', '\\n', '“What do you want from me?”\\n', '\\n', '“Be merciful! Let Vaska go!”\\n', '\\n', 'The doctor looked wonderingly at Kirila, and without saying a word\\n', 'walked on. The young peasant ran on in front and flung himself in a heap\\n', 'at his feet.\\n', '\\n', '“Doctor, kind gentleman!” he besought him, bAlinking and again passing\\n', 'his open hand over his nose. “Show heavenly mercy; let Vaska go home! We\\n', 'shall remember you in our prayers for ever! Your honour, let him go!\\n', 'They are all starving! Mother’s wailing day in, day out, Vaska’s wife’s\\n', 'wailing . . . it’s worse than death! I don’t care to look upon the light\\n', 'of day. Be merciful; let him go, kind gentleman!”\\n', '\\n', '“Are you stupid or out of your senses?” asked the doctor angrily. “How\\n', 'can I let him go? Why, he is a convict.”\\n', '\\n', 'Kirila began crying. “Let him go!”\\n', '\\n', '“Tfoo, queer fellow! What right have I? Am I a gaoler or what? They\\n', 'brought him to the hospital for me to treat him, but I have as much\\n', 'right to let him out as I have to put you in prison, silly fellow!”\\n', '\\n', '“But they have shut him up for nothing! He was in prison a year before\\n', 'the trial, and now there is no saying what he is there for. It would\\n', 'have been a different thing if he had murdered someone, let us say, or\\n', 'stolen horses; but as it is, what is it all about?”\\n', '\\n', '“Very likely, but how do I come in?”\\n', '\\n', '“They shut a man up and they don’t know themselves what for. He was\\n', 'drunk, your honour, did not know what he was doing, and even hit father\\n', 'on the ear and scratched his own cheek on a branch, and two of our\\n', 'fellows—they wanted some Turkish tobacco, you see-began telling him to\\n', 'go with them and break into the Armenian’s shop at night for tobacco.\\n', 'Being drunk, he obeyed them, the fool. They broke the lock, you know,\\n', 'got in, and did no end of mischief; they turned everything upside down,\\n', 'broke the windows, and scattered the flour about. They were drunk, that\\n', 'is all one can say! Well, the constable turned up . . . and with one\\n', 'thing and another they took them off to the magistrate. They have been a\\n', 'whole year in prison, and a week ago, on the Wednesday, they were all\\n', 'three tried in the town. A soldier stood behind them with a gun . . .\\n', 'people were sworn in. Vaska was less to blame than any, but the gentry\\n', 'decided that he was the ringleader. The other two lads were sent to\\n', 'prison, but Vaska to a convict battalion for three years. And what for?\\n', 'One should judge like a Christian!”\\n', '\\n', '“I have nothing to do with it, I tell you again. Go to the authorities.”\\n', '\\n', '“I have been already! I’ve been to the court; I have tried to send in a\\n', 'petition—they wouldn’t take a petition; I have been to the police\\n', 'captain, and I have been to the examining magistrate, and everyone says,\\n', '‘It is not my business!’ Whose business is it, then? But there is no one\\n', 'above you here in the hospital; you do what you like, your honour.”\\n', '\\n', '“You simpleton,” sighed the doctor, “once the jury have found him\\n', 'guilty, not the governor, not even the minister, could do anything, let\\n', 'alone the police captain. It’s no good your trying to do anything!”\\n', '\\n', '“And who judged him, then?”\\n', '\\n', '“The gentlemen of the jury. . . .”\\n', '\\n', '“They weren’t gentlemen, they were our peasants! Andrey Guryev was one;\\n', 'Aloshka Huk was one.”\\n', '\\n', '“Well, I am cold talking to you. . . .”\\n', '\\n', 'The doctor waved his hand and walked quickly to his own door. Kirila was\\n', 'on the point of following him, but, seeing the door slam, he stopped.\\n', '\\n', '\\n', '\\n', '\\n', '\\n']\n"
     ]
    }
   ],
   "source": [
    "print(text)"
   ]
  },
  {
   "cell_type": "code",
   "execution_count": 50,
   "metadata": {},
   "outputs": [],
   "source": [
    "#Preprocessing\n",
    "text = [line.replace('\\n','') for line in text]\n",
    "text = ''.join(str(line) for line in text)"
   ]
  },
  {
   "cell_type": "code",
   "execution_count": 51,
   "metadata": {},
   "outputs": [
    {
     "data": {
      "text/plain": [
       "'DARKNESSA YOUNG peasant, with white eyebrows and eyelashes and broad cheekbones,in a torn sheepskin and big black felt overboots, waited till theZemstvo doctor had finished seeing his patients and came out to go homefrom the hospital; then he went up to him, diffidently.“Please, your honour,” he said.“What do you want?”The young man passed the palm of his hand up and over his nose, lookedat the sky, and then answered:“Please, your honour. . . . You’ve got my brother Vaska the blacksmithfrom Varvarino in the convict ward here, your honour. . . .”“Yes, what then?”“I am Vaska’s brother, you see. . . . Father has the two of us: him,Vaska, and me, Kirila; besides us there are three sisters, and Vaska’s amarried man with a little one. . . . There are a lot of us and no one towork. . . . In the smithy it’s nearly two years now since the forge hasbeen heated. I am at the cotton factory, I can’t do smith’s work, andhow can father work? Let alone work, he can’t eat properly, he can’tlift the spoon to his mouth.”“What do you want from me?”“Be merciful! Let Vaska go!”The doctor looked wonderingly at Kirila, and without saying a wordwalked on. The young peasant ran on in front and flung himself in a heapat his feet.“Doctor, kind gentleman!” he besought him, bAlinking and again passinghis open hand over his nose. “Show heavenly mercy; let Vaska go home! Weshall remember you in our prayers for ever! Your honour, let him go!They are all starving! Mother’s wailing day in, day out, Vaska’s wife’swailing . . . it’s worse than death! I don’t care to look upon the lightof day. Be merciful; let him go, kind gentleman!”“Are you stupid or out of your senses?” asked the doctor angrily. “Howcan I let him go? Why, he is a convict.”Kirila began crying. “Let him go!”“Tfoo, queer fellow! What right have I? Am I a gaoler or what? Theybrought him to the hospital for me to treat him, but I have as muchright to let him out as I have to put you in prison, silly fellow!”“But they have shut him up for nothing! He was in prison a year beforethe trial, and now there is no saying what he is there for. It wouldhave been a different thing if he had murdered someone, let us say, orstolen horses; but as it is, what is it all about?”“Very likely, but how do I come in?”“They shut a man up and they don’t know themselves what for. He wasdrunk, your honour, did not know what he was doing, and even hit fatheron the ear and scratched his own cheek on a branch, and two of ourfellows—they wanted some Turkish tobacco, you see-began telling him togo with them and break into the Armenian’s shop at night for tobacco.Being drunk, he obeyed them, the fool. They broke the lock, you know,got in, and did no end of mischief; they turned everything upside down,broke the windows, and scattered the flour about. They were drunk, thatis all one can say! Well, the constable turned up . . . and with onething and another they took them off to the magistrate. They have been awhole year in prison, and a week ago, on the Wednesday, they were allthree tried in the town. A soldier stood behind them with a gun . . .people were sworn in. Vaska was less to blame than any, but the gentrydecided that he was the ringleader. The other two lads were sent toprison, but Vaska to a convict battalion for three years. And what for?One should judge like a Christian!”“I have nothing to do with it, I tell you again. Go to the authorities.”“I have been already! I’ve been to the court; I have tried to send in apetition—they wouldn’t take a petition; I have been to the policecaptain, and I have been to the examining magistrate, and everyone says,‘It is not my business!’ Whose business is it, then? But there is no oneabove you here in the hospital; you do what you like, your honour.”“You simpleton,” sighed the doctor, “once the jury have found himguilty, not the governor, not even the minister, could do anything, letalone the police captain. It’s no good your trying to do anything!”“And who judged him, then?”“The gentlemen of the jury. . . .”“They weren’t gentlemen, they were our peasants! Andrey Guryev was one;Aloshka Huk was one.”“Well, I am cold talking to you. . . .”The doctor waved his hand and walked quickly to his own door. Kirila wason the point of following him, but, seeing the door slam, he stopped.'"
      ]
     },
     "execution_count": 51,
     "metadata": {},
     "output_type": "execute_result"
    }
   ],
   "source": [
    "text"
   ]
  },
  {
   "cell_type": "code",
   "execution_count": 47,
   "metadata": {},
   "outputs": [],
   "source": [
    "with open('./darkness.mp3','wb') as audio:\n",
    "    res = tts.synthesize(text,accept='audio/mp3',voice='en-US_AllisonV3Voice').get_result()\n",
    "    audio.write(res.content)"
   ]
  },
  {
   "cell_type": "code",
   "execution_count": 52,
   "metadata": {},
   "outputs": [],
   "source": [
    "# Changing Into Another Language \n",
    "voice='fr-FR_ReneeV3Voice'\n",
    "with open('./french.mp3','wb') as audio:\n",
    "    res = tts.synthesize(text,accept='audio/mp3',voice=voice).get_result()\n",
    "    audio.write(res.content)"
   ]
  },
  {
   "cell_type": "code",
   "execution_count": null,
   "metadata": {},
   "outputs": [],
   "source": []
  }
 ],
 "metadata": {
  "kernelspec": {
   "display_name": "Python 3",
   "language": "python",
   "name": "python3"
  },
  "language_info": {
   "codemirror_mode": {
    "name": "ipython",
    "version": 3
   },
   "file_extension": ".py",
   "mimetype": "text/x-python",
   "name": "python",
   "nbconvert_exporter": "python",
   "pygments_lexer": "ipython3",
   "version": "3.8.5"
  }
 },
 "nbformat": 4,
 "nbformat_minor": 4
}
